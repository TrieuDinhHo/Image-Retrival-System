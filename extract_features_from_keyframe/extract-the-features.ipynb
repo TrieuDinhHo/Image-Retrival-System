{
 "cells": [
  {
   "cell_type": "markdown",
   "id": "89d18f31",
   "metadata": {
    "papermill": {
     "duration": 0.004384,
     "end_time": "2024-09-21T03:24:30.160925",
     "exception": false,
     "start_time": "2024-09-21T03:24:30.156541",
     "status": "completed"
    },
    "tags": []
   },
   "source": [
    "# Extract feature from Keyframes using ViT-16"
   ]
  },
  {
   "cell_type": "code",
   "execution_count": 1,
   "id": "b3a25b6a",
   "metadata": {
    "execution": {
     "iopub.execute_input": "2025-02-18T15:14:10.101160Z",
     "iopub.status.busy": "2025-02-18T15:14:10.100868Z",
     "iopub.status.idle": "2025-02-18T15:14:15.553767Z",
     "shell.execute_reply": "2025-02-18T15:14:15.552736Z",
     "shell.execute_reply.started": "2025-02-18T15:14:10.101131Z"
    },
    "papermill": {
     "duration": 13.911563,
     "end_time": "2024-09-21T03:24:44.076500",
     "exception": false,
     "start_time": "2024-09-21T03:24:30.164937",
     "status": "completed"
    },
    "tags": [],
    "trusted": true
   },
   "outputs": [
    {
     "name": "stdout",
     "output_type": "stream",
     "text": [
      "\u001b[2K   \u001b[90m━━━━━━━━━━━━━━━━━━━━━━━━━━━━━━━━━━━━━━━━\u001b[0m \u001b[32m1.5/1.5 MB\u001b[0m \u001b[31m18.5 MB/s\u001b[0m eta \u001b[36m0:00:00\u001b[0m00:01\u001b[0m00:01\u001b[0m\n",
      "\u001b[2K   \u001b[90m━━━━━━━━━━━━━━━━━━━━━━━━━━━━━━━━━━━━━━━━\u001b[0m \u001b[32m44.8/44.8 kB\u001b[0m \u001b[31m2.3 MB/s\u001b[0m eta \u001b[36m0:00:00\u001b[0m\n",
      "\u001b[?25h"
     ]
    }
   ],
   "source": [
    "# Instal dependency\n",
    "!pip install open_clip_torch -q"
   ]
  },
  {
   "cell_type": "code",
   "execution_count": 2,
   "id": "2e8782ab",
   "metadata": {
    "execution": {
     "iopub.execute_input": "2025-02-18T15:14:15.554999Z",
     "iopub.status.busy": "2025-02-18T15:14:15.554776Z",
     "iopub.status.idle": "2025-02-18T15:14:27.764640Z",
     "shell.execute_reply": "2025-02-18T15:14:27.763859Z",
     "shell.execute_reply.started": "2025-02-18T15:14:15.554979Z"
    },
    "papermill": {
     "duration": 7.017389,
     "end_time": "2024-09-21T03:24:51.098048",
     "exception": false,
     "start_time": "2024-09-21T03:24:44.080659",
     "status": "completed"
    },
    "tags": [],
    "trusted": true
   },
   "outputs": [],
   "source": [
    "# Import module\n",
    "import os\n",
    "import open_clip\n",
    "import glob\n",
    "import torch\n",
    "import numpy as np\n",
    "from PIL import Image\n",
    "from tqdm import tqdm"
   ]
  },
  {
   "cell_type": "markdown",
   "id": "8c44a5ec",
   "metadata": {
    "papermill": {
     "duration": 0.003622,
     "end_time": "2024-09-21T03:24:51.105883",
     "exception": false,
     "start_time": "2024-09-21T03:24:51.102261",
     "status": "completed"
    },
    "tags": []
   },
   "source": [
    "# Load Model"
   ]
  },
  {
   "cell_type": "code",
   "execution_count": 3,
   "id": "5d84f762",
   "metadata": {
    "execution": {
     "iopub.execute_input": "2025-02-18T15:14:27.765829Z",
     "iopub.status.busy": "2025-02-18T15:14:27.765526Z",
     "iopub.status.idle": "2025-02-18T15:14:42.901543Z",
     "shell.execute_reply": "2025-02-18T15:14:42.900621Z",
     "shell.execute_reply.started": "2025-02-18T15:14:27.765799Z"
    },
    "papermill": {
     "duration": 12.005409,
     "end_time": "2024-09-21T03:25:03.115180",
     "exception": false,
     "start_time": "2024-09-21T03:24:51.109771",
     "status": "completed"
    },
    "tags": [],
    "trusted": true
   },
   "outputs": [
    {
     "name": "stdout",
     "output_type": "stream",
     "text": [
      "cuda\n"
     ]
    },
    {
     "data": {
      "application/vnd.jupyter.widget-view+json": {
       "model_id": "284ce4ee18da42f8b8673d898fd5ee95",
       "version_major": 2,
       "version_minor": 0
      },
      "text/plain": [
       "open_clip_pytorch_model.bin:   0%|          | 0.00/1.71G [00:00<?, ?B/s]"
      ]
     },
     "metadata": {},
     "output_type": "display_data"
    }
   ],
   "source": [
    "device = \"cuda\" if torch.cuda.is_available() else \"cpu\"\n",
    "print(device)\n",
    "model, _, preprocess = open_clip.create_model_and_transforms('ViT-L-14', device=device, pretrained='datacomp_xl_s13b_b90k')"
   ]
  },
  {
   "cell_type": "markdown",
   "id": "aa50e0a5",
   "metadata": {
    "papermill": {
     "duration": 0.00395,
     "end_time": "2024-09-21T03:25:03.123648",
     "exception": false,
     "start_time": "2024-09-21T03:25:03.119698",
     "status": "completed"
    },
    "tags": []
   },
   "source": [
    "# Parse data path"
   ]
  },
  {
   "cell_type": "markdown",
   "id": "110d9869",
   "metadata": {
    "papermill": {
     "duration": 0.004732,
     "end_time": "2024-09-21T03:25:03.132692",
     "exception": false,
     "start_time": "2024-09-21T03:25:03.127960",
     "status": "completed"
    },
    "tags": []
   },
   "source": [
    "# Run inference (demo = True is running for 1 directory, otherwise all directory)"
   ]
  },
  {
   "cell_type": "code",
   "execution_count": null,
   "id": "10b7b87c",
   "metadata": {
    "execution": {
     "iopub.execute_input": "2025-02-18T15:14:42.904152Z",
     "iopub.status.busy": "2025-02-18T15:14:42.903873Z",
     "iopub.status.idle": "2025-02-18T15:14:59.228663Z",
     "shell.execute_reply": "2025-02-18T15:14:59.227750Z",
     "shell.execute_reply.started": "2025-02-18T15:14:42.904129Z"
    },
    "papermill": {
     "duration": 12688.632181,
     "end_time": "2024-09-21T06:56:31.769688",
     "exception": false,
     "start_time": "2024-09-21T03:25:03.137507",
     "status": "completed"
    },
    "tags": [],
    "trusted": true
   },
   "outputs": [],
   "source": [
    "keyframes_dir = \"/kaggle/input/extract-the-keyframes/Keyframes/\"\n",
    "\n",
    "# Thư mục để lưu các features\n",
    "save_dir = \"/kaggle/working/CLIPv2_features/\"\n",
    "os.makedirs(save_dir, exist_ok=True)\n",
    "\n",
    "# Lấy danh sách tất cả các file ảnh trong thư mục\n",
    "image_files = sorted([f for f in os.listdir(keyframes_dir) if f.endswith(('.jpg', '.jpeg', '.png','.webp'))])\n",
    "\n",
    "# Duyệt qua từng ảnh và trích xuất features\n",
    "for image_file in image_files:\n",
    "    # Đường dẫn đầy đủ đến ảnh\n",
    "    image_path = os.path.join(keyframes_dir, image_file)\n",
    "    \n",
    "    # Mở ảnh và tiền xử lý\n",
    "    image = preprocess(Image.open(image_path)).unsqueeze(0)\n",
    "    image = image.to(device)\n",
    "    \n",
    "    # Trích xuất features\n",
    "    with torch.no_grad(), torch.cuda.amp.autocast():\n",
    "        image_feats = model.encode_image(image)\n",
    "    \n",
    "    # Chuẩn hóa features\n",
    "    image_feats /= image_feats.norm(dim=-1, keepdim=True)\n",
    "    image_feats = image_feats.detach().cpu().numpy().astype(np.float32).flatten()\n",
    "    \n",
    "    # Lưu features vào file .npy\n",
    "    video_id = os.path.splitext(image_file)[0]  # Lấy tên file không có phần mở rộng\n",
    "    np.save(os.path.join(save_dir, f\"{video_id}.npy\"), image_feats)\n",
    "    \n",
    "    print(f\"Processed {image_file} and saved features to {save_dir}{video_id}.npy\")"
   ]
  },
  {
   "cell_type": "markdown",
   "id": "8c958ca4",
   "metadata": {
    "papermill": {
     "duration": 0.060101,
     "end_time": "2024-09-21T06:56:31.894909",
     "exception": false,
     "start_time": "2024-09-21T06:56:31.834808",
     "status": "completed"
    },
    "tags": []
   },
   "source": [
    "# Convert to all features to file.bin"
   ]
  },
  {
   "cell_type": "code",
   "execution_count": null,
   "id": "652cf701",
   "metadata": {
    "execution": {
     "iopub.execute_input": "2025-02-18T15:14:59.230468Z",
     "iopub.status.busy": "2025-02-18T15:14:59.230072Z",
     "iopub.status.idle": "2025-02-18T15:15:06.830770Z",
     "shell.execute_reply": "2025-02-18T15:15:06.829531Z",
     "shell.execute_reply.started": "2025-02-18T15:14:59.230432Z"
    },
    "papermill": {
     "duration": 13.834005,
     "end_time": "2024-09-21T06:56:45.788306",
     "exception": false,
     "start_time": "2024-09-21T06:56:31.954301",
     "status": "completed"
    },
    "tags": [],
    "trusted": true
   },
   "outputs": [],
   "source": [
    "!pip install faiss-cpu"
   ]
  },
  {
   "cell_type": "code",
   "execution_count": 6,
   "id": "c7c803ca",
   "metadata": {
    "execution": {
     "iopub.execute_input": "2025-02-18T15:15:06.832543Z",
     "iopub.status.busy": "2025-02-18T15:15:06.832171Z",
     "iopub.status.idle": "2025-02-18T15:15:06.887382Z",
     "shell.execute_reply": "2025-02-18T15:15:06.886362Z",
     "shell.execute_reply.started": "2025-02-18T15:15:06.832516Z"
    },
    "papermill": {
     "duration": 0.100563,
     "end_time": "2024-09-21T06:56:45.950155",
     "exception": false,
     "start_time": "2024-09-21T06:56:45.849592",
     "status": "completed"
    },
    "tags": [],
    "trusted": true
   },
   "outputs": [],
   "source": [
    "import os\n",
    "import glob\n",
    "import faiss\n",
    "import numpy as np\n",
    "from tqdm import tqdm"
   ]
  },
  {
   "cell_type": "code",
   "execution_count": null,
   "id": "9a7e65b2",
   "metadata": {
    "execution": {
     "iopub.execute_input": "2025-02-18T15:16:05.828244Z",
     "iopub.status.busy": "2025-02-18T15:16:05.827909Z",
     "iopub.status.idle": "2025-02-18T15:16:05.943418Z",
     "shell.execute_reply": "2025-02-18T15:16:05.942530Z",
     "shell.execute_reply.started": "2025-02-18T15:16:05.828199Z"
    },
    "papermill": {
     "duration": 30.655225,
     "end_time": "2024-09-21T06:57:16.665857",
     "exception": false,
     "start_time": "2024-09-21T06:56:46.010632",
     "status": "completed"
    },
    "tags": [],
    "trusted": true
   },
   "outputs": [],
   "source": [
    "feature_shape = 768\n",
    "features_dir = '/kaggle/working/CLIPv2_features'\n",
    "\n",
    "# Khởi tạo FAISS index\n",
    "index = faiss.IndexFlatIP(feature_shape)\n",
    "feature_files = sorted(glob.glob(os.path.join(features_dir, '*.npy')))\n",
    "\n",
    "for feature_file in feature_files:\n",
    "    print(f\"Processing {feature_file}\")\n",
    "    \n",
    "    feat = np.load(feature_file).astype(np.float32).reshape(1, -1)\n",
    "    \n",
    "    index.add(feat)\n",
    "\n",
    "# Lưu index vào file\n",
    "faiss.write_index(index, \"faiss_clipv2_cosine.bin\")\n",
    "print(\"FAISS index saved to faiss_clipv2_cosine.bin\")"
   ]
  },
  {
   "cell_type": "code",
   "execution_count": 9,
   "id": "290d8c27",
   "metadata": {
    "execution": {
     "iopub.execute_input": "2025-02-18T15:16:15.337101Z",
     "iopub.status.busy": "2025-02-18T15:16:15.336794Z",
     "iopub.status.idle": "2025-02-18T15:16:15.515159Z",
     "shell.execute_reply": "2025-02-18T15:16:15.513936Z",
     "shell.execute_reply.started": "2025-02-18T15:16:15.337078Z"
    },
    "papermill": {
     "duration": 7.141823,
     "end_time": "2024-09-21T06:57:23.878617",
     "exception": false,
     "start_time": "2024-09-21T06:57:16.736794",
     "status": "completed"
    },
    "tags": [],
    "trusted": true
   },
   "outputs": [],
   "source": [
    "!rm -rf /kaggle/working/CLIPv2_features"
   ]
  },
  {
   "cell_type": "code",
   "execution_count": null,
   "id": "22ffdee7-79ba-4c54-a841-3d6d1bd4e980",
   "metadata": {
    "trusted": true
   },
   "outputs": [],
   "source": []
  }
 ],
 "metadata": {
  "kaggle": {
   "accelerator": "gpu",
   "dataSources": [
    {
     "sourceId": 223166874,
     "sourceType": "kernelVersion"
    }
   ],
   "dockerImageVersionId": 30887,
   "isGpuEnabled": true,
   "isInternetEnabled": true,
   "language": "python",
   "sourceType": "notebook"
  },
  "kernelspec": {
   "display_name": "Python 3",
   "language": "python",
   "name": "python3"
  },
  "language_info": {
   "codemirror_mode": {
    "name": "ipython",
    "version": 3
   },
   "file_extension": ".py",
   "mimetype": "text/x-python",
   "name": "python",
   "nbconvert_exporter": "python",
   "pygments_lexer": "ipython3",
   "version": "3.10.12"
  },
  "papermill": {
   "default_parameters": {},
   "duration": 12778.395078,
   "end_time": "2024-09-21T06:57:25.800316",
   "environment_variables": {},
   "exception": null,
   "input_path": "__notebook__.ipynb",
   "output_path": "__notebook__.ipynb",
   "parameters": {},
   "start_time": "2024-09-21T03:24:27.405238",
   "version": "2.5.0"
  },
  "widgets": {
   "application/vnd.jupyter.widget-state+json": {
    "state": {
     "1a64d779f6cd47db8da23f320e466c8f": {
      "model_module": "@jupyter-widgets/controls",
      "model_module_version": "1.5.0",
      "model_name": "HTMLModel",
      "state": {
       "_dom_classes": [],
       "_model_module": "@jupyter-widgets/controls",
       "_model_module_version": "1.5.0",
       "_model_name": "HTMLModel",
       "_view_count": null,
       "_view_module": "@jupyter-widgets/controls",
       "_view_module_version": "1.5.0",
       "_view_name": "HTMLView",
       "description": "",
       "description_tooltip": null,
       "layout": "IPY_MODEL_65b98d18740c4213b53a19c1cccc07b6",
       "placeholder": "​",
       "style": "IPY_MODEL_3a87c7eff739475ab10d31b48367cacc",
       "value": " 1.71G/1.71G [00:04&lt;00:00, 378MB/s]"
      }
     },
     "1b16097730704cbdbd2c589934589932": {
      "model_module": "@jupyter-widgets/controls",
      "model_module_version": "1.5.0",
      "model_name": "HTMLModel",
      "state": {
       "_dom_classes": [],
       "_model_module": "@jupyter-widgets/controls",
       "_model_module_version": "1.5.0",
       "_model_name": "HTMLModel",
       "_view_count": null,
       "_view_module": "@jupyter-widgets/controls",
       "_view_module_version": "1.5.0",
       "_view_name": "HTMLView",
       "description": "",
       "description_tooltip": null,
       "layout": "IPY_MODEL_459cdd27218a44df826ea8d85158a71e",
       "placeholder": "​",
       "style": "IPY_MODEL_cd104347295c43d08e41f6dd3316f6d5",
       "value": "open_clip_pytorch_model.bin: 100%"
      }
     },
     "24aee765b95849f9aafda3e098c8174f": {
      "model_module": "@jupyter-widgets/base",
      "model_module_version": "1.2.0",
      "model_name": "LayoutModel",
      "state": {
       "_model_module": "@jupyter-widgets/base",
       "_model_module_version": "1.2.0",
       "_model_name": "LayoutModel",
       "_view_count": null,
       "_view_module": "@jupyter-widgets/base",
       "_view_module_version": "1.2.0",
       "_view_name": "LayoutView",
       "align_content": null,
       "align_items": null,
       "align_self": null,
       "border": null,
       "bottom": null,
       "display": null,
       "flex": null,
       "flex_flow": null,
       "grid_area": null,
       "grid_auto_columns": null,
       "grid_auto_flow": null,
       "grid_auto_rows": null,
       "grid_column": null,
       "grid_gap": null,
       "grid_row": null,
       "grid_template_areas": null,
       "grid_template_columns": null,
       "grid_template_rows": null,
       "height": null,
       "justify_content": null,
       "justify_items": null,
       "left": null,
       "margin": null,
       "max_height": null,
       "max_width": null,
       "min_height": null,
       "min_width": null,
       "object_fit": null,
       "object_position": null,
       "order": null,
       "overflow": null,
       "overflow_x": null,
       "overflow_y": null,
       "padding": null,
       "right": null,
       "top": null,
       "visibility": null,
       "width": null
      }
     },
     "3a87c7eff739475ab10d31b48367cacc": {
      "model_module": "@jupyter-widgets/controls",
      "model_module_version": "1.5.0",
      "model_name": "DescriptionStyleModel",
      "state": {
       "_model_module": "@jupyter-widgets/controls",
       "_model_module_version": "1.5.0",
       "_model_name": "DescriptionStyleModel",
       "_view_count": null,
       "_view_module": "@jupyter-widgets/base",
       "_view_module_version": "1.2.0",
       "_view_name": "StyleView",
       "description_width": ""
      }
     },
     "459cdd27218a44df826ea8d85158a71e": {
      "model_module": "@jupyter-widgets/base",
      "model_module_version": "1.2.0",
      "model_name": "LayoutModel",
      "state": {
       "_model_module": "@jupyter-widgets/base",
       "_model_module_version": "1.2.0",
       "_model_name": "LayoutModel",
       "_view_count": null,
       "_view_module": "@jupyter-widgets/base",
       "_view_module_version": "1.2.0",
       "_view_name": "LayoutView",
       "align_content": null,
       "align_items": null,
       "align_self": null,
       "border": null,
       "bottom": null,
       "display": null,
       "flex": null,
       "flex_flow": null,
       "grid_area": null,
       "grid_auto_columns": null,
       "grid_auto_flow": null,
       "grid_auto_rows": null,
       "grid_column": null,
       "grid_gap": null,
       "grid_row": null,
       "grid_template_areas": null,
       "grid_template_columns": null,
       "grid_template_rows": null,
       "height": null,
       "justify_content": null,
       "justify_items": null,
       "left": null,
       "margin": null,
       "max_height": null,
       "max_width": null,
       "min_height": null,
       "min_width": null,
       "object_fit": null,
       "object_position": null,
       "order": null,
       "overflow": null,
       "overflow_x": null,
       "overflow_y": null,
       "padding": null,
       "right": null,
       "top": null,
       "visibility": null,
       "width": null
      }
     },
     "4abcb796079544f4904f109439b372b2": {
      "model_module": "@jupyter-widgets/base",
      "model_module_version": "1.2.0",
      "model_name": "LayoutModel",
      "state": {
       "_model_module": "@jupyter-widgets/base",
       "_model_module_version": "1.2.0",
       "_model_name": "LayoutModel",
       "_view_count": null,
       "_view_module": "@jupyter-widgets/base",
       "_view_module_version": "1.2.0",
       "_view_name": "LayoutView",
       "align_content": null,
       "align_items": null,
       "align_self": null,
       "border": null,
       "bottom": null,
       "display": null,
       "flex": null,
       "flex_flow": null,
       "grid_area": null,
       "grid_auto_columns": null,
       "grid_auto_flow": null,
       "grid_auto_rows": null,
       "grid_column": null,
       "grid_gap": null,
       "grid_row": null,
       "grid_template_areas": null,
       "grid_template_columns": null,
       "grid_template_rows": null,
       "height": null,
       "justify_content": null,
       "justify_items": null,
       "left": null,
       "margin": null,
       "max_height": null,
       "max_width": null,
       "min_height": null,
       "min_width": null,
       "object_fit": null,
       "object_position": null,
       "order": null,
       "overflow": null,
       "overflow_x": null,
       "overflow_y": null,
       "padding": null,
       "right": null,
       "top": null,
       "visibility": null,
       "width": null
      }
     },
     "4afd4bd01d154889a8071a0a6c167121": {
      "model_module": "@jupyter-widgets/controls",
      "model_module_version": "1.5.0",
      "model_name": "ProgressStyleModel",
      "state": {
       "_model_module": "@jupyter-widgets/controls",
       "_model_module_version": "1.5.0",
       "_model_name": "ProgressStyleModel",
       "_view_count": null,
       "_view_module": "@jupyter-widgets/base",
       "_view_module_version": "1.2.0",
       "_view_name": "StyleView",
       "bar_color": null,
       "description_width": ""
      }
     },
     "65b98d18740c4213b53a19c1cccc07b6": {
      "model_module": "@jupyter-widgets/base",
      "model_module_version": "1.2.0",
      "model_name": "LayoutModel",
      "state": {
       "_model_module": "@jupyter-widgets/base",
       "_model_module_version": "1.2.0",
       "_model_name": "LayoutModel",
       "_view_count": null,
       "_view_module": "@jupyter-widgets/base",
       "_view_module_version": "1.2.0",
       "_view_name": "LayoutView",
       "align_content": null,
       "align_items": null,
       "align_self": null,
       "border": null,
       "bottom": null,
       "display": null,
       "flex": null,
       "flex_flow": null,
       "grid_area": null,
       "grid_auto_columns": null,
       "grid_auto_flow": null,
       "grid_auto_rows": null,
       "grid_column": null,
       "grid_gap": null,
       "grid_row": null,
       "grid_template_areas": null,
       "grid_template_columns": null,
       "grid_template_rows": null,
       "height": null,
       "justify_content": null,
       "justify_items": null,
       "left": null,
       "margin": null,
       "max_height": null,
       "max_width": null,
       "min_height": null,
       "min_width": null,
       "object_fit": null,
       "object_position": null,
       "order": null,
       "overflow": null,
       "overflow_x": null,
       "overflow_y": null,
       "padding": null,
       "right": null,
       "top": null,
       "visibility": null,
       "width": null
      }
     },
     "cd104347295c43d08e41f6dd3316f6d5": {
      "model_module": "@jupyter-widgets/controls",
      "model_module_version": "1.5.0",
      "model_name": "DescriptionStyleModel",
      "state": {
       "_model_module": "@jupyter-widgets/controls",
       "_model_module_version": "1.5.0",
       "_model_name": "DescriptionStyleModel",
       "_view_count": null,
       "_view_module": "@jupyter-widgets/base",
       "_view_module_version": "1.2.0",
       "_view_name": "StyleView",
       "description_width": ""
      }
     },
     "e5842639bb35489f9aebf271e87ec0e4": {
      "model_module": "@jupyter-widgets/controls",
      "model_module_version": "1.5.0",
      "model_name": "HBoxModel",
      "state": {
       "_dom_classes": [],
       "_model_module": "@jupyter-widgets/controls",
       "_model_module_version": "1.5.0",
       "_model_name": "HBoxModel",
       "_view_count": null,
       "_view_module": "@jupyter-widgets/controls",
       "_view_module_version": "1.5.0",
       "_view_name": "HBoxView",
       "box_style": "",
       "children": [
        "IPY_MODEL_1b16097730704cbdbd2c589934589932",
        "IPY_MODEL_e5b42c34c47b4d6488598273b6c659cd",
        "IPY_MODEL_1a64d779f6cd47db8da23f320e466c8f"
       ],
       "layout": "IPY_MODEL_4abcb796079544f4904f109439b372b2"
      }
     },
     "e5b42c34c47b4d6488598273b6c659cd": {
      "model_module": "@jupyter-widgets/controls",
      "model_module_version": "1.5.0",
      "model_name": "FloatProgressModel",
      "state": {
       "_dom_classes": [],
       "_model_module": "@jupyter-widgets/controls",
       "_model_module_version": "1.5.0",
       "_model_name": "FloatProgressModel",
       "_view_count": null,
       "_view_module": "@jupyter-widgets/controls",
       "_view_module_version": "1.5.0",
       "_view_name": "ProgressView",
       "bar_style": "success",
       "description": "",
       "description_tooltip": null,
       "layout": "IPY_MODEL_24aee765b95849f9aafda3e098c8174f",
       "max": 1710639109,
       "min": 0,
       "orientation": "horizontal",
       "style": "IPY_MODEL_4afd4bd01d154889a8071a0a6c167121",
       "value": 1710639109
      }
     }
    },
    "version_major": 2,
    "version_minor": 0
   }
  }
 },
 "nbformat": 4,
 "nbformat_minor": 5
}
